{
 "cells": [
  {
   "cell_type": "code",
   "execution_count": 61,
   "metadata": {
    "vscode": {
     "languageId": "shellscript"
    }
   },
   "outputs": [],
   "source": [
    "# create folders\n",
    "mkdir demos\n",
    "mkdir demos/pod"
   ]
  },
  {
   "cell_type": "code",
   "execution_count": 2,
   "metadata": {
    "vscode": {
     "languageId": "shellscript"
    }
   },
   "outputs": [
    {
     "name": "stdout",
     "output_type": "stream",
     "text": [
      "No resources found in default namespace.\n"
     ]
    }
   ],
   "source": [
    "kubectl get pods"
   ]
  },
  {
   "cell_type": "code",
   "execution_count": 7,
   "metadata": {
    "vscode": {
     "languageId": "shellscript"
    }
   },
   "outputs": [
    {
     "name": "stdout",
     "output_type": "stream",
     "text": [
      "Create and run a particular image in a pod.\n",
      "  kubectl run nginx --image=nginx\n",
      "  kubectl run hazelcast --image=hazelcast/hazelcast --port=5701\n",
      "  kubectl run hazelcast --image=hazelcast/hazelcast --env=\"DNS_DOMAIN=cluster\" --env=\"POD_NAMESPACE=default\"\n",
      "  kubectl run hazelcast --image=hazelcast/hazelcast --labels=\"app=hazelcast,env=prod\"\n",
      "  kubectl run nginx --image=nginx --dry-run=client\n",
      "  kubectl run nginx --image=nginx --overrides='{ \"apiVersion\": \"v1\", \"spec\": { ... } }'\n",
      "  kubectl run -i -t busybox --image=busybox --restart=Never\n",
      "  kubectl run nginx --image=nginx -- <arg1> <arg2> ... <argN>\n",
      "  kubectl run nginx --image=nginx --command -- <cmd> <arg1> ... <argN>\n",
      "    --image='':\n",
      "\tThe image for the container to run.\n",
      "    --image-pull-policy='':\n",
      "\tThe image pull policy for the container.  If left empty, this value will not be specified by the client and defaulted by the server.\n",
      "  kubectl run NAME --image=image [--env=\"key=value\"] [--port=port] [--dry-run=server|client] [--overrides=inline-json] [--command] -- [COMMAND] [args...] [options]\n"
     ]
    }
   ],
   "source": [
    "# check DOCS for the run image command\n",
    "kubectl run -h | grep image"
   ]
  },
  {
   "cell_type": "code",
   "execution_count": 8,
   "metadata": {
    "vscode": {
     "languageId": "shellscript"
    }
   },
   "outputs": [
    {
     "name": "stdout",
     "output_type": "stream",
     "text": [
      "pod/nginx created\n"
     ]
    }
   ],
   "source": [
    "# create a pod using nginx as image\n",
    "kubectl run nginx --image nginx"
   ]
  },
  {
   "cell_type": "code",
   "execution_count": 9,
   "metadata": {
    "vscode": {
     "languageId": "shellscript"
    }
   },
   "outputs": [
    {
     "name": "stdout",
     "output_type": "stream",
     "text": [
      "NAME    READY   STATUS    RESTARTS   AGE   IP            NODE       NOMINATED NODE   READINESS GATES\n",
      "nginx   1/1     Running   0          83s   10.244.0.87   minikube   <none>           <none>\n"
     ]
    }
   ],
   "source": [
    "# check the deployment\n",
    "kubectl get pods -o wide "
   ]
  },
  {
   "cell_type": "code",
   "execution_count": 15,
   "metadata": {
    "vscode": {
     "languageId": "shellscript"
    }
   },
   "outputs": [
    {
     "name": "stdout",
     "output_type": "stream",
     "text": [
      "Name:             nginx\n",
      "Namespace:        default\n",
      "Priority:         0\n",
      "Service Account:  default\n",
      "Node:             minikube/192.168.49.2\n",
      "Start Time:       Fri, 03 Feb 2023 00:09:16 +0100\n",
      "Labels:           run=nginx\n",
      "Annotations:      <none>\n",
      "Status:           Running\n",
      "IP:               10.244.0.87\n"
     ]
    }
   ],
   "source": [
    "# check some info about the pod\n",
    "kubectl describe pod nginx | head "
   ]
  },
  {
   "cell_type": "code",
   "execution_count": 18,
   "metadata": {
    "vscode": {
     "languageId": "shellscript"
    }
   },
   "outputs": [
    {
     "name": "stdout",
     "output_type": "stream",
     "text": [
      "    Image:          nginx\n"
     ]
    }
   ],
   "source": [
    "# check the pod image used\n",
    "kubectl describe pod nginx | grep Image:"
   ]
  },
  {
   "cell_type": "code",
   "execution_count": 29,
   "metadata": {
    "vscode": {
     "languageId": "shellscript"
    }
   },
   "outputs": [
    {
     "name": "stdout",
     "output_type": "stream",
     "text": [
      "NODE\n",
      "minikube\n"
     ]
    }
   ],
   "source": [
    "# check the node in which the pod is running\n",
    "kubectl get pods -o wide | awk '{print $7}'"
   ]
  },
  {
   "cell_type": "code",
   "execution_count": 30,
   "metadata": {
    "vscode": {
     "languageId": "shellscript"
    }
   },
   "outputs": [
    {
     "name": "stdout",
     "output_type": "stream",
     "text": [
      "pod \"nginx\" deleted\n"
     ]
    }
   ],
   "source": [
    "# clean up\n",
    "kubectl delete pod nginx"
   ]
  },
  {
   "cell_type": "code",
   "execution_count": 49,
   "metadata": {
    "vscode": {
     "languageId": "shellscript"
    }
   },
   "outputs": [
    {
     "name": "stdout",
     "output_type": "stream",
     "text": [
      "apiVersion: v1\n",
      "kind: Pod\n",
      "metadata:\n",
      "  creationTimestamp: null\n",
      "  labels:\n",
      "    run: redis\n",
      "  name: redis\n",
      "spec:\n",
      "  containers:\n",
      "  - image: redis123\n",
      "    name: redis\n",
      "    resources: {}\n",
      "  dnsPolicy: ClusterFirst\n",
      "  restartPolicy: Always\n",
      "status: {}\n"
     ]
    }
   ],
   "source": [
    "# create new pod with a wrong image, using a file output\n",
    "kubectl run redis --image redis123 --dry-run=client -o yaml | tee ./demos/pod/redis.yaml"
   ]
  },
  {
   "cell_type": "code",
   "execution_count": 41,
   "metadata": {
    "vscode": {
     "languageId": "shellscript"
    }
   },
   "outputs": [
    {
     "name": "stdout",
     "output_type": "stream",
     "text": [
      "pod/redis created\n"
     ]
    }
   ],
   "source": [
    "# deploy the file\n",
    "kubectl create -f ./demos/pod/redis.yaml"
   ]
  },
  {
   "cell_type": "code",
   "execution_count": 42,
   "metadata": {
    "vscode": {
     "languageId": "shellscript"
    }
   },
   "outputs": [
    {
     "name": "stdout",
     "output_type": "stream",
     "text": [
      "NAME    READY   STATUS             RESTARTS   AGE   IP            NODE       NOMINATED NODE   READINESS GATES\n",
      "redis   0/1     ImagePullBackOff   0          48s   10.244.0.88   minikube   <none>           <none>\n"
     ]
    }
   ],
   "source": [
    "# check the pods\n",
    "kubectl get pods -o wide"
   ]
  },
  {
   "cell_type": "code",
   "execution_count": 43,
   "metadata": {
    "vscode": {
     "languageId": "shellscript"
    }
   },
   "outputs": [
    {
     "name": "stdout",
     "output_type": "stream",
     "text": [
      "  Warning  Failed     7s (x4 over 107s)   kubelet            Failed to pull image \"redis123\": rpc error: code = Unknown desc = Error response from daemon: pull access denied for redis123, repository does not exist or may require 'docker login': denied: requested access to the resource is denied\n"
     ]
    }
   ],
   "source": [
    "# check the error\n",
    "kubectl describe pod redis | grep error"
   ]
  },
  {
   "cell_type": "code",
   "execution_count": 50,
   "metadata": {
    "vscode": {
     "languageId": "shellscript"
    }
   },
   "outputs": [],
   "source": [
    "# update the image with the right image in the file\n",
    "sed -i 's/redis123/redis/' ./demos/pod/redis.yaml "
   ]
  },
  {
   "cell_type": "code",
   "execution_count": 53,
   "metadata": {
    "vscode": {
     "languageId": "shellscript"
    }
   },
   "outputs": [
    {
     "name": "stdout",
     "output_type": "stream",
     "text": [
      "pod/redis configured\n"
     ]
    }
   ],
   "source": [
    "# apply the file changes\n",
    "kubectl apply -f ./demos/pod/redis.yaml "
   ]
  },
  {
   "cell_type": "code",
   "execution_count": 59,
   "metadata": {
    "vscode": {
     "languageId": "shellscript"
    }
   },
   "outputs": [
    {
     "name": "stdout",
     "output_type": "stream",
     "text": [
      "NAME STATUS\n",
      "redis Running\n"
     ]
    }
   ],
   "source": [
    "# validate the pods\n",
    "kubectl get pods -o wide | awk '{print $1, $3}'"
   ]
  },
  {
   "cell_type": "code",
   "execution_count": 60,
   "metadata": {
    "vscode": {
     "languageId": "shellscript"
    }
   },
   "outputs": [
    {
     "name": "stdout",
     "output_type": "stream",
     "text": [
      "pod \"redis\" deleted\n"
     ]
    }
   ],
   "source": [
    "# clean up\n",
    "kubectl delete pod redis"
   ]
  }
 ],
 "metadata": {
  "kernelspec": {
   "display_name": "Bash",
   "language": "bash",
   "name": "bash"
  },
  "language_info": {
   "codemirror_mode": "shell",
   "file_extension": ".sh",
   "mimetype": "text/x-sh",
   "name": "bash"
  },
  "orig_nbformat": 4
 },
 "nbformat": 4,
 "nbformat_minor": 2
}
