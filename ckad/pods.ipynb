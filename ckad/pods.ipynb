{
 "cells": [
  {
   "cell_type": "code",
   "execution_count": 2,
   "metadata": {
    "vscode": {
     "languageId": "shellscript"
    }
   },
   "outputs": [
    {
     "name": "stdout",
     "output_type": "stream",
     "text": [
      "No resources found in default namespace.\n"
     ]
    }
   ],
   "source": [
    "kubectl get pods"
   ]
  },
  {
   "cell_type": "code",
   "execution_count": 7,
   "metadata": {
    "vscode": {
     "languageId": "shellscript"
    }
   },
   "outputs": [
    {
     "name": "stdout",
     "output_type": "stream",
     "text": [
      "Create and run a particular image in a pod.\n",
      "  kubectl run nginx --image=nginx\n",
      "  kubectl run hazelcast --image=hazelcast/hazelcast --port=5701\n",
      "  kubectl run hazelcast --image=hazelcast/hazelcast --env=\"DNS_DOMAIN=cluster\" --env=\"POD_NAMESPACE=default\"\n",
      "  kubectl run hazelcast --image=hazelcast/hazelcast --labels=\"app=hazelcast,env=prod\"\n",
      "  kubectl run nginx --image=nginx --dry-run=client\n",
      "  kubectl run nginx --image=nginx --overrides='{ \"apiVersion\": \"v1\", \"spec\": { ... } }'\n",
      "  kubectl run -i -t busybox --image=busybox --restart=Never\n",
      "  kubectl run nginx --image=nginx -- <arg1> <arg2> ... <argN>\n",
      "  kubectl run nginx --image=nginx --command -- <cmd> <arg1> ... <argN>\n",
      "    --image='':\n",
      "\tThe image for the container to run.\n",
      "    --image-pull-policy='':\n",
      "\tThe image pull policy for the container.  If left empty, this value will not be specified by the client and defaulted by the server.\n",
      "  kubectl run NAME --image=image [--env=\"key=value\"] [--port=port] [--dry-run=server|client] [--overrides=inline-json] [--command] -- [COMMAND] [args...] [options]\n"
     ]
    }
   ],
   "source": [
    "# check docs for the run image command\n",
    "kubectl run -h | grep image"
   ]
  },
  {
   "cell_type": "code",
   "execution_count": 8,
   "metadata": {
    "vscode": {
     "languageId": "shellscript"
    }
   },
   "outputs": [
    {
     "name": "stdout",
     "output_type": "stream",
     "text": [
      "pod/nginx created\n"
     ]
    }
   ],
   "source": [
    "# create a pod using nginx as image\n",
    "kubectl run nginx --image nginx"
   ]
  },
  {
   "cell_type": "code",
   "execution_count": 9,
   "metadata": {
    "vscode": {
     "languageId": "shellscript"
    }
   },
   "outputs": [
    {
     "name": "stdout",
     "output_type": "stream",
     "text": [
      "NAME    READY   STATUS    RESTARTS   AGE   IP            NODE       NOMINATED NODE   READINESS GATES\n",
      "nginx   1/1     Running   0          83s   10.244.0.87   minikube   <none>           <none>\n"
     ]
    }
   ],
   "source": [
    "# check the deployment\n",
    "kubectl get pods -o wide "
   ]
  },
  {
   "cell_type": "code",
   "execution_count": 15,
   "metadata": {
    "vscode": {
     "languageId": "shellscript"
    }
   },
   "outputs": [
    {
     "name": "stdout",
     "output_type": "stream",
     "text": [
      "Name:             nginx\n",
      "Namespace:        default\n",
      "Priority:         0\n",
      "Service Account:  default\n",
      "Node:             minikube/192.168.49.2\n",
      "Start Time:       Fri, 03 Feb 2023 00:09:16 +0100\n",
      "Labels:           run=nginx\n",
      "Annotations:      <none>\n",
      "Status:           Running\n",
      "IP:               10.244.0.87\n"
     ]
    }
   ],
   "source": [
    "# check some info about the pod\n",
    "kubectl describe pod nginx | head "
   ]
  },
  {
   "cell_type": "code",
   "execution_count": 18,
   "metadata": {
    "vscode": {
     "languageId": "shellscript"
    }
   },
   "outputs": [
    {
     "name": "stdout",
     "output_type": "stream",
     "text": [
      "    Image:          nginx\n"
     ]
    }
   ],
   "source": [
    "# check the pod image used\n",
    "kubectl describe pod nginx | grep Image:"
   ]
  },
  {
   "cell_type": "code",
   "execution_count": 29,
   "metadata": {
    "vscode": {
     "languageId": "shellscript"
    }
   },
   "outputs": [
    {
     "name": "stdout",
     "output_type": "stream",
     "text": [
      "NODE\n",
      "minikube\n"
     ]
    }
   ],
   "source": [
    "# check the node in which the pod is running\n",
    "kubectl get pods -o wide | awk '{print $7}'"
   ]
  },
  {
   "cell_type": "code",
   "execution_count": 30,
   "metadata": {
    "vscode": {
     "languageId": "shellscript"
    }
   },
   "outputs": [
    {
     "name": "stdout",
     "output_type": "stream",
     "text": [
      "pod \"nginx\" deleted\n"
     ]
    }
   ],
   "source": [
    "# clean up\n",
    "kubectl delete pod nginx"
   ]
  }
 ],
 "metadata": {
  "kernelspec": {
   "display_name": "Bash",
   "language": "bash",
   "name": "bash"
  },
  "language_info": {
   "codemirror_mode": "shell",
   "file_extension": ".sh",
   "mimetype": "text/x-sh",
   "name": "bash"
  },
  "orig_nbformat": 4
 },
 "nbformat": 4,
 "nbformat_minor": 2
}
