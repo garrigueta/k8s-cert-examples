{
 "cells": [
  {
   "cell_type": "code",
   "execution_count": 1,
   "metadata": {},
   "outputs": [],
   "source": [
    "import os"
   ]
  },
  {
   "cell_type": "code",
   "execution_count": 2,
   "metadata": {},
   "outputs": [
    {
     "name": "stdout",
     "output_type": "stream",
     "text": [
      "deployment.apps/myapp created\n"
     ]
    },
    {
     "data": {
      "text/plain": [
       "0"
      ]
     },
     "execution_count": 2,
     "metadata": {},
     "output_type": "execute_result"
    }
   ],
   "source": [
    "# Deploy multiple objects (Deployment, RS, and PODs)\n",
    "os.system('kubectl apply -f ' + os.getcwd() + '/k8s/deployment-definition.yml')\n",
    "\n",
    "# Out:\n",
    "# deployment.apps/myapp created"
   ]
  },
  {
   "cell_type": "code",
   "execution_count": 3,
   "metadata": {},
   "outputs": [
    {
     "name": "stdout",
     "output_type": "stream",
     "text": [
      "NAME    READY   UP-TO-DATE   AVAILABLE   AGE\n",
      "myapp   2/2     2            2           3s\n"
     ]
    },
    {
     "data": {
      "text/plain": [
       "0"
      ]
     },
     "execution_count": 3,
     "metadata": {},
     "output_type": "execute_result"
    }
   ],
   "source": [
    "# check the deployments\n",
    "os.system('kubectl get deployments')\n",
    "\n",
    "# Out:\n",
    "# NAME    READY   UP-TO-DATE   AVAILABLE   AGE\n",
    "# myapp   2/2     2            2           3s"
   ]
  },
  {
   "cell_type": "code",
   "execution_count": 4,
   "metadata": {},
   "outputs": [
    {
     "name": "stdout",
     "output_type": "stream",
     "text": [
      "NAME                     READY   STATUS    RESTARTS      AGE\n",
      "myapp-57cb9576bc-4jg5n   1/1     Running   0             8s\n",
      "myapp-57cb9576bc-jf9sj   1/1     Running   0             8s\n",
      "myapp-pod                1/1     Running   1 (71s ago)   22h\n",
      "myapp-rc-tqzll           1/1     Running   1 (71s ago)   21h\n",
      "myapp-rc-twlts           1/1     Running   1 (71s ago)   21h\n",
      "myapp-rs-272bh           1/1     Running   1 (71s ago)   21h\n",
      "myapp-rs-b5brv           1/1     Running   1 (71s ago)   21h\n"
     ]
    },
    {
     "data": {
      "text/plain": [
       "0"
      ]
     },
     "execution_count": 4,
     "metadata": {},
     "output_type": "execute_result"
    }
   ],
   "source": [
    "# check the pods\n",
    "os.system('kubectl get pods')\n",
    "\n",
    "# Out:\n",
    "# NAME                     READY   STATUS    RESTARTS   AGE\n",
    "# myapp-57cb9576bc-9cnkj   1/1     Running   0          5m56s\n",
    "# myapp-57cb9576bc-hbdpn   1/1     Running   0          5m56s"
   ]
  },
  {
   "cell_type": "code",
   "execution_count": 5,
   "metadata": {},
   "outputs": [
    {
     "name": "stdout",
     "output_type": "stream",
     "text": [
      "Name:                   myapp\n",
      "Namespace:              default\n",
      "CreationTimestamp:      Wed, 01 Feb 2023 21:37:13 +0100\n",
      "Labels:                 <none>\n",
      "Annotations:            deployment.kubernetes.io/revision: 1\n",
      "Selector:               app=myapp\n",
      "Replicas:               2 desired | 2 updated | 2 total | 2 available | 0 unavailable\n",
      "StrategyType:           RollingUpdate\n",
      "MinReadySeconds:        0\n",
      "RollingUpdateStrategy:  25% max unavailable, 25% max surge\n",
      "Pod Template:\n",
      "  Labels:  app=myapp\n",
      "  Containers:\n",
      "   myapp:\n",
      "    Image:      nginx\n",
      "    Port:       <none>\n",
      "    Host Port:  <none>\n",
      "    Limits:\n",
      "      cpu:        500m\n",
      "      memory:     128Mi\n",
      "    Environment:  <none>\n",
      "    Mounts:       <none>\n",
      "  Volumes:        <none>\n",
      "Conditions:\n",
      "  Type           Status  Reason\n",
      "  ----           ------  ------\n",
      "  Available      True    MinimumReplicasAvailable\n",
      "  Progressing    True    NewReplicaSetAvailable\n",
      "OldReplicaSets:  <none>\n",
      "NewReplicaSet:   myapp-57cb9576bc (2/2 replicas created)\n",
      "Events:\n",
      "  Type    Reason             Age   From                   Message\n",
      "  ----    ------             ----  ----                   -------\n",
      "  Normal  ScalingReplicaSet  16s   deployment-controller  Scaled up replica set myapp-57cb9576bc to 2\n"
     ]
    },
    {
     "data": {
      "text/plain": [
       "0"
      ]
     },
     "execution_count": 5,
     "metadata": {},
     "output_type": "execute_result"
    }
   ],
   "source": [
    "# check the deployment details\n",
    "os.system('kubectl describe deployment myapp')\n",
    "\n",
    "# Out:\n",
    "# Name:                   myapp\n",
    "# Namespace:              default\n",
    "# CreationTimestamp:      Wed, 01 Feb 2023 01:38:46 +0100\n",
    "# Labels:                 <none>\n",
    "# Annotations:            deployment.kubernetes.io/revision: 1\n",
    "# Selector:               app=myapp\n",
    "# Replicas:               2 desired | 2 updated | 2 total | 2 available | 0 unavailable\n",
    "# StrategyType:           RollingUpdate\n",
    "# MinReadySeconds:        0\n",
    "# RollingUpdateStrategy:  25% max unavailable, 25% max surge\n",
    "# ..."
   ]
  },
  {
   "cell_type": "code",
   "execution_count": 6,
   "metadata": {},
   "outputs": [
    {
     "name": "stdout",
     "output_type": "stream",
     "text": [
      "deployment.apps \"myapp\" deleted\n"
     ]
    },
    {
     "data": {
      "text/plain": [
       "0"
      ]
     },
     "execution_count": 6,
     "metadata": {},
     "output_type": "execute_result"
    }
   ],
   "source": [
    "# clean a custom deployment\n",
    "os.system('kubectl delete deployment myapp')\n",
    "\n",
    "# Out:\n",
    "# deployment.apps \"myapp\" deleted"
   ]
  },
  {
   "cell_type": "code",
   "execution_count": 7,
   "metadata": {},
   "outputs": [
    {
     "name": "stdout",
     "output_type": "stream",
     "text": [
      "deployment.apps/httpd-frontend created\n"
     ]
    },
    {
     "data": {
      "text/plain": [
       "0"
      ]
     },
     "execution_count": 7,
     "metadata": {},
     "output_type": "execute_result"
    }
   ],
   "source": [
    "# create a custom deployment\n",
    "os.system('kubectl create deployment httpd-frontend --image httpd:2.4-alpine --replicas 3')\n",
    "\n",
    "# Out:\n",
    "# deployment.apps/httpd-frontend created"
   ]
  },
  {
   "cell_type": "code",
   "execution_count": 8,
   "metadata": {},
   "outputs": [
    {
     "name": "stdout",
     "output_type": "stream",
     "text": [
      "deployment.apps \"httpd-frontend\" deleted\n"
     ]
    },
    {
     "data": {
      "text/plain": [
       "0"
      ]
     },
     "execution_count": 8,
     "metadata": {},
     "output_type": "execute_result"
    }
   ],
   "source": [
    "# clean a custom deployment\n",
    "os.system('kubectl delete deployment httpd-frontend')\n",
    "\n",
    "# Out:\n",
    "# deployment.apps \"httpd-frontend\" deleted"
   ]
  },
  {
   "cell_type": "code",
   "execution_count": 9,
   "metadata": {},
   "outputs": [
    {
     "name": "stdout",
     "output_type": "stream",
     "text": [
      "deployment.apps/busybox created\n"
     ]
    },
    {
     "data": {
      "text/plain": [
       "0"
      ]
     },
     "execution_count": 9,
     "metadata": {},
     "output_type": "execute_result"
    }
   ],
   "source": [
    "# create a custom deployment\n",
    "os.system('kubectl create deployment busybox --image busybox:1.35 --replicas 6')\n",
    "\n",
    "# Out:\n",
    "# deployment.apps/busybox created"
   ]
  },
  {
   "cell_type": "code",
   "execution_count": 10,
   "metadata": {},
   "outputs": [
    {
     "name": "stdout",
     "output_type": "stream",
     "text": [
      "deployment.apps/busybox image updated\n"
     ]
    },
    {
     "data": {
      "text/plain": [
       "0"
      ]
     },
     "execution_count": 10,
     "metadata": {},
     "output_type": "execute_result"
    }
   ],
   "source": [
    "# update a custom deployment\n",
    "os.system('kubectl set image deployment busybox busybox=busybox:1.36 ')\n",
    "\n",
    "# Out: \n",
    "# deployment.apps/busybox image updated"
   ]
  },
  {
   "cell_type": "code",
   "execution_count": 11,
   "metadata": {},
   "outputs": [
    {
     "name": "stdout",
     "output_type": "stream",
     "text": [
      "    Image:        busybox:1.36\n"
     ]
    },
    {
     "data": {
      "text/plain": [
       "0"
      ]
     },
     "execution_count": 11,
     "metadata": {},
     "output_type": "execute_result"
    }
   ],
   "source": [
    "# describe a custom deployment and check the update\n",
    "os.system('kubectl describe deployment busybox | grep Image:')\n",
    "\n",
    "# Out: \n",
    "# Image:        busybox:1.36"
   ]
  },
  {
   "cell_type": "code",
   "execution_count": 12,
   "metadata": {},
   "outputs": [
    {
     "name": "stdout",
     "output_type": "stream",
     "text": [
      "deployment.apps/busybox rolled back\n"
     ]
    },
    {
     "data": {
      "text/plain": [
       "0"
      ]
     },
     "execution_count": 12,
     "metadata": {},
     "output_type": "execute_result"
    }
   ],
   "source": [
    "# revert the last deployment revision\n",
    "os.system('kubectl rollout undo deployment busybox')\n",
    "\n",
    "# Out: \n",
    "# deployment.apps/busybox rolled back\n"
   ]
  },
  {
   "cell_type": "code",
   "execution_count": 13,
   "metadata": {},
   "outputs": [
    {
     "name": "stdout",
     "output_type": "stream",
     "text": [
      "Waiting for deployment \"busybox\" rollout to finish: 5 out of 6 new replicas have been updated...\n"
     ]
    },
    {
     "data": {
      "text/plain": [
       "2"
      ]
     },
     "execution_count": 13,
     "metadata": {},
     "output_type": "execute_result"
    }
   ],
   "source": [
    "# check the deployment revision status\n",
    "os.system('kubectl rollout status deployment busybox')\n",
    "\n",
    "# Out:\n",
    "# Waiting for deployment \"busybox\" rollout to finish: 3 out of 6 new replicas have been updated..."
   ]
  },
  {
   "cell_type": "code",
   "execution_count": null,
   "metadata": {},
   "outputs": [
    {
     "name": "stdout",
     "output_type": "stream",
     "text": [
      "    Image:        busybox:1.35\n"
     ]
    },
    {
     "data": {
      "text/plain": [
       "0"
      ]
     },
     "execution_count": 20,
     "metadata": {},
     "output_type": "execute_result"
    }
   ],
   "source": [
    "# describe a custom deployment and check the revert\n",
    "os.system('kubectl describe deployment busybox | grep Image:')\n",
    "\n",
    "# Out: \n",
    "# Image:        busybox:1.35"
   ]
  },
  {
   "cell_type": "code",
   "execution_count": 14,
   "metadata": {},
   "outputs": [
    {
     "name": "stdout",
     "output_type": "stream",
     "text": [
      "deployment.apps/busybox \n",
      "REVISION  CHANGE-CAUSE\n",
      "2         <none>\n",
      "3         <none>\n",
      "\n"
     ]
    },
    {
     "data": {
      "text/plain": [
       "0"
      ]
     },
     "execution_count": 14,
     "metadata": {},
     "output_type": "execute_result"
    }
   ],
   "source": [
    "# check the deployment revision status\n",
    "os.system('kubectl rollout history deployment busybox')\n"
   ]
  },
  {
   "cell_type": "code",
   "execution_count": 15,
   "metadata": {},
   "outputs": [
    {
     "name": "stdout",
     "output_type": "stream",
     "text": [
      "deployment.apps \"busybox\" deleted\n"
     ]
    },
    {
     "data": {
      "text/plain": [
       "0"
      ]
     },
     "execution_count": 15,
     "metadata": {},
     "output_type": "execute_result"
    }
   ],
   "source": [
    "# clean a custom deployment\n",
    "os.system('kubectl delete deployment busybox')\n",
    "\n",
    "# Out:\n",
    "# deployment.apps \"busybox\" deleted"
   ]
  }
 ],
 "metadata": {
  "kernelspec": {
   "display_name": "Python 3 (ipykernel)",
   "language": "python",
   "name": "python3"
  },
  "language_info": {
   "codemirror_mode": {
    "name": "ipython",
    "version": 3
   },
   "file_extension": ".py",
   "mimetype": "text/x-python",
   "name": "python",
   "nbconvert_exporter": "python",
   "pygments_lexer": "ipython3",
   "version": "3.10.6"
  },
  "orig_nbformat": 4,
  "vscode": {
   "interpreter": {
    "hash": "916dbcbb3f70747c44a77c7bcd40155683ae19c65e1c03b4aa3499c5328201f1"
   }
  }
 },
 "nbformat": 4,
 "nbformat_minor": 2
}
