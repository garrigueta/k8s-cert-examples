{
 "cells": [
  {
   "cell_type": "code",
   "execution_count": 2,
   "metadata": {},
   "outputs": [],
   "source": [
    "import os"
   ]
  },
  {
   "cell_type": "code",
   "execution_count": 9,
   "metadata": {},
   "outputs": [
    {
     "name": "stdout",
     "output_type": "stream",
     "text": [
      "* minikube v1.29.0 on Ubuntu 22.04\n",
      "* Using the docker driver based on existing profile\n",
      "* Starting control plane node minikube in cluster minikube\n",
      "* Pulling base image ...\n",
      "* Restarting existing docker container for \"minikube\" ...\n",
      "* Preparing Kubernetes v1.26.1 on Docker 20.10.23 ...\n",
      "* Configuring bridge CNI (Container Networking Interface) ...\n",
      "* Verifying Kubernetes components...\n",
      "  - Using image gcr.io/k8s-minikube/storage-provisioner:v5\n",
      "  - Using image docker.io/kubernetesui/metrics-scraper:v1.0.8\n",
      "  - Using image docker.io/kubernetesui/dashboard:v2.7.0\n",
      "* Some dashboard features require the metrics-server addon. To enable all features please run:\n",
      "\n",
      "\tminikube addons enable metrics-server\t\n",
      "\n",
      "\n",
      "* Enabled addons: storage-provisioner, default-storageclass, dashboard\n",
      "* Done! kubectl is now configured to use \"minikube\" cluster and \"default\" namespace by default\n"
     ]
    },
    {
     "data": {
      "text/plain": [
       "0"
      ]
     },
     "execution_count": 9,
     "metadata": {},
     "output_type": "execute_result"
    }
   ],
   "source": [
    "# Start the cluster\n",
    "os.system('minikube start')"
   ]
  },
  {
   "cell_type": "code",
   "execution_count": 6,
   "metadata": {},
   "outputs": [
    {
     "name": "stdout",
     "output_type": "stream",
     "text": [
      "minikube\n",
      "type: Control Plane\n",
      "host: Running\n",
      "kubelet: Running\n",
      "apiserver: Running\n",
      "kubeconfig: Configured\n",
      "\n"
     ]
    },
    {
     "data": {
      "text/plain": [
       "0"
      ]
     },
     "execution_count": 6,
     "metadata": {},
     "output_type": "execute_result"
    }
   ],
   "source": [
    "# check status\n",
    "os.system('minikube status')"
   ]
  },
  {
   "cell_type": "code",
   "execution_count": 7,
   "metadata": {},
   "outputs": [
    {
     "name": "stdout",
     "output_type": "stream",
     "text": [
      "NAMESPACE              NAME                                        READY   STATUS    RESTARTS       AGE\n",
      "kube-system            coredns-787d4945fb-ggk55                    1/1     Running   2 (121m ago)   2d\n",
      "kube-system            etcd-minikube                               1/1     Running   2 (121m ago)   2d\n",
      "kube-system            kube-apiserver-minikube                     1/1     Running   2 (121m ago)   2d\n",
      "kube-system            kube-controller-manager-minikube            1/1     Running   2 (121m ago)   2d\n",
      "kube-system            kube-proxy-7c2fh                            1/1     Running   2 (121m ago)   2d\n",
      "kube-system            kube-scheduler-minikube                     1/1     Running   2 (121m ago)   2d\n",
      "kube-system            storage-provisioner                         1/1     Running   5 (120m ago)   2d\n",
      "kubernetes-dashboard   dashboard-metrics-scraper-5c6664855-cnftr   1/1     Running   2 (121m ago)   2d\n",
      "kubernetes-dashboard   kubernetes-dashboard-55c4cbbc7c-fqz9f       1/1     Running   4 (121m ago)   2d\n",
      "NAMESPACE              NAME                                        READY   STATUS    RESTARTS       AGE\n",
      "kube-system            coredns-787d4945fb-ggk55                    1/1     Running   2 (121m ago)   2d\n",
      "kube-system            etcd-minikube                               1/1     Running   2 (121m ago)   2d\n",
      "kube-system            kube-apiserver-minikube                     1/1     Running   2 (121m ago)   2d\n",
      "kube-system            kube-controller-manager-minikube            1/1     Running   2 (121m ago)   2d\n",
      "kube-system            kube-proxy-7c2fh                            1/1     Running   2 (121m ago)   2d\n",
      "kube-system            kube-scheduler-minikube                     1/1     Running   2 (121m ago)   2d\n",
      "kube-system            storage-provisioner                         1/1     Running   5 (120m ago)   2d\n",
      "kubernetes-dashboard   dashboard-metrics-scraper-5c6664855-cnftr   1/1     Running   2 (121m ago)   2d\n",
      "kubernetes-dashboard   kubernetes-dashboard-55c4cbbc7c-fqz9f       1/1     Running   4 (121m ago)   2d\n"
     ]
    },
    {
     "data": {
      "text/plain": [
       "0"
      ]
     },
     "execution_count": 7,
     "metadata": {},
     "output_type": "execute_result"
    }
   ],
   "source": [
    "# Get pods\n",
    "\n",
    "# kubectl\n",
    "os.system('kubectl get po -A')\n",
    "\n",
    "# minikube\n",
    "os.system('minikube kubectl -- get po -A')"
   ]
  },
  {
   "cell_type": "code",
   "execution_count": null,
   "metadata": {},
   "outputs": [],
   "source": [
    "# Run the dashboard (please, don't do it)\n",
    "\n",
    "os.system('minikube dashboard')\n",
    "\n",
    "# http://127.0.0.1:38709/api/v1/namespaces/kubernetes-dashboard/services/http:kubernetes-dashboard:/proxy/#/workloads?namespace=default"
   ]
  },
  {
   "cell_type": "code",
   "execution_count": null,
   "metadata": {},
   "outputs": [],
   "source": [
    "# Manage the cluster\n",
    "\n",
    "os.system('minikube pause')\n",
    "\n",
    "os.system('minikube unpause')"
   ]
  },
  {
   "cell_type": "code",
   "execution_count": 8,
   "metadata": {},
   "outputs": [
    {
     "name": "stdout",
     "output_type": "stream",
     "text": [
      "* Stopping node \"minikube\"  ...\n",
      "* Powering off \"minikube\" via SSH ...\n",
      "* 1 node stopped.\n"
     ]
    },
    {
     "data": {
      "text/plain": [
       "0"
      ]
     },
     "execution_count": 8,
     "metadata": {},
     "output_type": "execute_result"
    }
   ],
   "source": [
    "# Stop the cluster\n",
    "\n",
    "os.system('minikube stop')"
   ]
  }
 ],
 "metadata": {
  "kernelspec": {
   "display_name": "Python 3 (ipykernel)",
   "language": "python",
   "name": "python3"
  },
  "language_info": {
   "codemirror_mode": {
    "name": "ipython",
    "version": 3
   },
   "file_extension": ".py",
   "mimetype": "text/x-python",
   "name": "python",
   "nbconvert_exporter": "python",
   "pygments_lexer": "ipython3",
   "version": "3.10.6"
  },
  "orig_nbformat": 4
 },
 "nbformat": 4,
 "nbformat_minor": 2
}
