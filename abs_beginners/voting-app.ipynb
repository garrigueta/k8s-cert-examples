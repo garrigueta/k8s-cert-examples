{
 "cells": [
  {
   "cell_type": "code",
   "execution_count": 112,
   "metadata": {},
   "outputs": [],
   "source": [
    "import os"
   ]
  },
  {
   "cell_type": "code",
   "execution_count": 113,
   "metadata": {},
   "outputs": [
    {
     "name": "stderr",
     "output_type": "stream",
     "text": [
      "No resources found in default namespace.\n"
     ]
    },
    {
     "data": {
      "text/plain": [
       "0"
      ]
     },
     "execution_count": 113,
     "metadata": {},
     "output_type": "execute_result"
    }
   ],
   "source": [
    "# get actual pods\n",
    "os.system('kubectl get pods')\n",
    "\n",
    "# Out:\n",
    "# No resources found in default namespace."
   ]
  },
  {
   "cell_type": "code",
   "execution_count": 114,
   "metadata": {},
   "outputs": [
    {
     "name": "stdout",
     "output_type": "stream",
     "text": [
      "NAME         TYPE        CLUSTER-IP   EXTERNAL-IP   PORT(S)   AGE\n",
      "kubernetes   ClusterIP   10.96.0.1    <none>        443/TCP   31m\n"
     ]
    },
    {
     "data": {
      "text/plain": [
       "0"
      ]
     },
     "execution_count": 114,
     "metadata": {},
     "output_type": "execute_result"
    }
   ],
   "source": [
    "# check services\n",
    "os.system('kubectl get svc')\n",
    "\n",
    "# Out:\n",
    "# No resources found in default namespace."
   ]
  },
  {
   "cell_type": "code",
   "execution_count": 115,
   "metadata": {},
   "outputs": [
    {
     "name": "stdout",
     "output_type": "stream",
     "text": [
      "pod/voting-app-pod created\n"
     ]
    },
    {
     "data": {
      "text/plain": [
       "0"
      ]
     },
     "execution_count": 115,
     "metadata": {},
     "output_type": "execute_result"
    }
   ],
   "source": [
    "# create the voting-app pod\n",
    "os.system('kubectl create -f ' + os.getcwd() + '/voting-app/voting-app-pod.yaml')\n",
    "\n",
    "# Out:\n",
    "# pod/voting-app-pod created"
   ]
  },
  {
   "cell_type": "code",
   "execution_count": 116,
   "metadata": {},
   "outputs": [
    {
     "name": "stdout",
     "output_type": "stream",
     "text": [
      "service/voting-service created\n"
     ]
    },
    {
     "data": {
      "text/plain": [
       "0"
      ]
     },
     "execution_count": 116,
     "metadata": {},
     "output_type": "execute_result"
    }
   ],
   "source": [
    "# create the voting-app service\n",
    "os.system('kubectl create -f ' + os.getcwd() + '/voting-app/voting-app-service.yaml')\n",
    "\n",
    "# Out:\n",
    "# service/voting-service created"
   ]
  },
  {
   "cell_type": "code",
   "execution_count": 117,
   "metadata": {},
   "outputs": [
    {
     "name": "stdout",
     "output_type": "stream",
     "text": [
      "NAME                 READY   STATUS              RESTARTS   AGE\n",
      "pod/voting-app-pod   0/1     ContainerCreating   0          1s\n",
      "\n",
      "NAME                     TYPE        CLUSTER-IP       EXTERNAL-IP   PORT(S)        AGE\n",
      "service/kubernetes       ClusterIP   10.96.0.1        <none>        443/TCP        32m\n",
      "service/voting-service   NodePort    10.105.142.232   <none>        80:30004/TCP   0s\n"
     ]
    },
    {
     "data": {
      "text/plain": [
       "0"
      ]
     },
     "execution_count": 117,
     "metadata": {},
     "output_type": "execute_result"
    }
   ],
   "source": [
    "# check the new resources\n",
    "os.system('kubectl get pods,svc')\n",
    "\n",
    "# Out:\n",
    "# NAME                 READY   STATUS    RESTARTS   AGE\n",
    "# pod/voting-app-pod   1/1     Running   0          7s\n",
    "# \n",
    "# NAME                     TYPE        CLUSTER-IP       EXTERNAL-IP   PORT(S)        AGE\n",
    "# service/kubernetes       ClusterIP   10.96.0.1        <none>        443/TCP        2d\n",
    "# service/voting-service   NodePort    10.104.230.206   <none>        80:30004/TCP   4s"
   ]
  },
  {
   "cell_type": "code",
   "execution_count": 118,
   "metadata": {},
   "outputs": [
    {
     "name": "stdout",
     "output_type": "stream",
     "text": [
      "http://192.168.49.2:30004\n"
     ]
    },
    {
     "data": {
      "text/plain": [
       "0"
      ]
     },
     "execution_count": 118,
     "metadata": {},
     "output_type": "execute_result"
    }
   ],
   "source": [
    "# get the voting-service address\n",
    "os.system('minikube service voting-service --url')\n",
    "\n",
    "# Out:\n",
    "# http://192.168.49.2:30004"
   ]
  },
  {
   "cell_type": "code",
   "execution_count": 119,
   "metadata": {},
   "outputs": [
    {
     "name": "stderr",
     "output_type": "stream",
     "text": [
      "--2023-02-02 00:07:45--  http://192.168.49.2:30004/\n",
      "Connecting to 192.168.49.2:30004... connected.\n",
      "HTTP request sent, awaiting response... 200 OK\n",
      "Length: 1287 (1,3K) [text/html]\n",
      "Saving to: ‘index.html.1’\n",
      "\n",
      "     0K .                                                     100%  115M=0s\n",
      "\n",
      "2023-02-02 00:07:46 (115 MB/s) - ‘index.html.1’ saved [1287/1287]\n",
      "\n"
     ]
    },
    {
     "data": {
      "text/plain": [
       "0"
      ]
     },
     "execution_count": 119,
     "metadata": {},
     "output_type": "execute_result"
    }
   ],
   "source": [
    "# check the url content\n",
    "os.system('wget http://192.168.49.2:30004')\n",
    "\n",
    "# Out:\n",
    "# -2023-02-01 23:17:16--  http://192.168.49.2:30004/\n",
    "# -Connecting to 192.168.49.2:30004... connected.\n",
    "# -HTTP request sent, awaiting response... 200 OK\n",
    "# -Length: 1287 (1,3K) [text/html]\n",
    "# -Saving to: ‘index.html’\n",
    "# -\n",
    "# -     0K .                                                     100%  184M=0s\n",
    "# -\n",
    "# -2023-02-01 23:17:16 (184 MB/s) - ‘index.html’ saved [1287/1287]"
   ]
  },
  {
   "cell_type": "code",
   "execution_count": 120,
   "metadata": {},
   "outputs": [
    {
     "name": "stdout",
     "output_type": "stream",
     "text": [
      "<!DOCTYPE html>\n",
      "<html>\n",
      "  <head>\n",
      "    <meta charset=\"utf-8\">\n",
      "    <title>Cats vs Dogs!</title>\n",
      "    <base href=\"/index.html\">\n",
      "    <meta name = \"viewport\" content = \"width=device-width, initial-scale = 1.0\">\n",
      "    <meta name=\"keywords\" content=\"docker-compose, docker, stack\">\n",
      "    <meta name=\"author\" content=\"Tutum dev team\">\n",
      "    <link rel='stylesheet' href=\"/static/stylesheets/style.css\" />\n",
      "    <link rel=\"stylesheet\" href=\"https://maxcdn.bootstrapcdn.com/font-awesome/4.4.0/css/font-awesome.min.css\">\n",
      "  </head>\n",
      "  <body>\n",
      "    <div id=\"content-container\">\n",
      "      <div id=\"content-container-center\">\n",
      "        <h3>Cats vs Dogs!</h3>\n",
      "        <form id=\"choice\" name='form' method=\"POST\" action=\"/\">\n",
      "          <button id=\"a\" type=\"submit\" name=\"vote\" class=\"a\" value=\"a\">Cats</button>\n",
      "          <button id=\"b\" type=\"submit\" name=\"vote\" class=\"b\" value=\"b\">Dogs</button>\n",
      "        </form>\n",
      "        <div id=\"tip\">\n",
      "          (Tip: you can change your vote)\n",
      "        </div>\n",
      "        <div id=\"hostname\">\n",
      "          Processed by container ID voting-app-pod\n",
      "        </div>\n",
      "      </div>\n",
      "    </div>\n",
      "    <script src=\"http://code.jquery.com/jquery-latest.min.js\" type=\"text/javascript\"></script>\n",
      "    <script src=\"//cdnjs.cloudflare.com/ajax/libs/jquery-cookie/1.4.1/jquery.cookie.js\"></script>\n",
      "\n",
      "    \n",
      "  </body>\n",
      "</html>"
     ]
    },
    {
     "data": {
      "text/plain": [
       "0"
      ]
     },
     "execution_count": 120,
     "metadata": {},
     "output_type": "execute_result"
    }
   ],
   "source": [
    "# check the file content\n",
    "os.system('cat index.html')"
   ]
  },
  {
   "cell_type": "code",
   "execution_count": 121,
   "metadata": {},
   "outputs": [
    {
     "name": "stdout",
     "output_type": "stream",
     "text": [
      "pod/redis-pod created\n"
     ]
    },
    {
     "data": {
      "text/plain": [
       "0"
      ]
     },
     "execution_count": 121,
     "metadata": {},
     "output_type": "execute_result"
    }
   ],
   "source": [
    "# create the redis pod\n",
    "os.system('kubectl create -f ' + os.getcwd() + '/voting-app/redis-pod.yaml')\n",
    "\n",
    "# Out:\n",
    "# pod/redis-pod created"
   ]
  },
  {
   "cell_type": "code",
   "execution_count": 122,
   "metadata": {},
   "outputs": [
    {
     "name": "stdout",
     "output_type": "stream",
     "text": [
      "service/redis created\n"
     ]
    },
    {
     "data": {
      "text/plain": [
       "0"
      ]
     },
     "execution_count": 122,
     "metadata": {},
     "output_type": "execute_result"
    }
   ],
   "source": [
    "# create the redis service\n",
    "os.system('kubectl create -f ' + os.getcwd() + '/voting-app/redis-service.yaml')\n",
    "\n",
    "# Out:\n",
    "# service/redis-service created"
   ]
  },
  {
   "cell_type": "code",
   "execution_count": 123,
   "metadata": {},
   "outputs": [
    {
     "name": "stdout",
     "output_type": "stream",
     "text": [
      "NAME                 READY   STATUS              RESTARTS   AGE\n",
      "pod/redis-pod        0/1     ContainerCreating   0          0s\n",
      "pod/voting-app-pod   1/1     Running             0          3s\n",
      "\n",
      "NAME                     TYPE        CLUSTER-IP       EXTERNAL-IP   PORT(S)        AGE\n",
      "service/kubernetes       ClusterIP   10.96.0.1        <none>        443/TCP        32m\n",
      "service/redis            ClusterIP   10.106.54.60     <none>        6379/TCP       0s\n",
      "service/voting-service   NodePort    10.105.142.232   <none>        80:30004/TCP   2s\n"
     ]
    },
    {
     "data": {
      "text/plain": [
       "0"
      ]
     },
     "execution_count": 123,
     "metadata": {},
     "output_type": "execute_result"
    }
   ],
   "source": [
    "# check the new resources\n",
    "os.system('kubectl get pods,svc')\n",
    "\n",
    "# Out:\n",
    "# NAME                 READY   STATUS    RESTARTS   AGE\n",
    "# pod/redis-pod        1/1     Running   0          83s\n",
    "# pod/voting-app-pod   1/1     Running   0          17m\n",
    "# \n",
    "# NAME                     TYPE        CLUSTER-IP       EXTERNAL-IP   PORT(S)        AGE\n",
    "# service/kubernetes       ClusterIP   10.96.0.1        <none>        443/TCP        2d\n",
    "# service/redis            ClusterIP   10.110.186.206   <none>        6379/TCP       29s\n",
    "# service/voting-service   NodePort    10.104.230.206   <none>        80:30004/TCP   16m"
   ]
  },
  {
   "cell_type": "code",
   "execution_count": 124,
   "metadata": {},
   "outputs": [
    {
     "name": "stdout",
     "output_type": "stream",
     "text": [
      "pod/postgres-pod created\n"
     ]
    },
    {
     "data": {
      "text/plain": [
       "0"
      ]
     },
     "execution_count": 124,
     "metadata": {},
     "output_type": "execute_result"
    }
   ],
   "source": [
    "# create the postgres pod\n",
    "os.system('kubectl create -f ' + os.getcwd() + '/voting-app/postgres-pod.yaml')\n",
    "\n",
    "# Out:\n",
    "# pod/postgres-pod created"
   ]
  },
  {
   "cell_type": "code",
   "execution_count": 125,
   "metadata": {},
   "outputs": [
    {
     "name": "stdout",
     "output_type": "stream",
     "text": [
      "service/db created\n"
     ]
    },
    {
     "data": {
      "text/plain": [
       "0"
      ]
     },
     "execution_count": 125,
     "metadata": {},
     "output_type": "execute_result"
    }
   ],
   "source": [
    "# create the postgres service\n",
    "os.system('kubectl create -f ' + os.getcwd() + '/voting-app/postgres-service.yaml')\n",
    "\n",
    "# Out:\n",
    "# service/db created"
   ]
  },
  {
   "cell_type": "code",
   "execution_count": 126,
   "metadata": {},
   "outputs": [
    {
     "name": "stdout",
     "output_type": "stream",
     "text": [
      "NAME                 READY   STATUS              RESTARTS   AGE\n",
      "pod/postgres-pod     0/1     ContainerCreating   0          0s\n",
      "pod/redis-pod        0/1     ContainerCreating   0          1s\n",
      "pod/voting-app-pod   1/1     Running             0          4s\n",
      "\n",
      "NAME                     TYPE        CLUSTER-IP       EXTERNAL-IP   PORT(S)        AGE\n",
      "service/db               ClusterIP   10.104.144.215   <none>        5432/TCP       0s\n",
      "service/kubernetes       ClusterIP   10.96.0.1        <none>        443/TCP        32m\n",
      "service/redis            ClusterIP   10.106.54.60     <none>        6379/TCP       1s\n",
      "service/voting-service   NodePort    10.105.142.232   <none>        80:30004/TCP   3s\n"
     ]
    },
    {
     "data": {
      "text/plain": [
       "0"
      ]
     },
     "execution_count": 126,
     "metadata": {},
     "output_type": "execute_result"
    }
   ],
   "source": [
    "# check the new resources\n",
    "os.system('kubectl get pods,svc')\n",
    "\n",
    "# Out:\n",
    "# NAME                 READY   STATUS    RESTARTS   AGE\n",
    "# pod/postgres-pod     1/1     Running   0          71s\n",
    "# pod/redis-pod        1/1     Running   0          4m4s\n",
    "# pod/voting-app-pod   1/1     Running   0          19m\n",
    "# \n",
    "# NAME                     TYPE        CLUSTER-IP       EXTERNAL-IP   PORT(S)        AGE\n",
    "# service/db               ClusterIP   10.99.205.246    <none>        5432/TCP       68s\n",
    "# service/kubernetes       ClusterIP   10.96.0.1        <none>        443/TCP        2d\n",
    "# service/redis            ClusterIP   10.110.186.206   <none>        6379/TCP       3m10s\n",
    "# service/voting-service   NodePort    10.104.230.206   <none>        80:30004/TCP   19m"
   ]
  },
  {
   "cell_type": "code",
   "execution_count": 127,
   "metadata": {},
   "outputs": [
    {
     "name": "stdout",
     "output_type": "stream",
     "text": [
      "pod/worker-app-pod created\n"
     ]
    },
    {
     "data": {
      "text/plain": [
       "0"
      ]
     },
     "execution_count": 127,
     "metadata": {},
     "output_type": "execute_result"
    }
   ],
   "source": [
    "# create the worker pod\n",
    "os.system('kubectl create -f ' + os.getcwd() + '/voting-app/worker-app-pod.yaml')\n",
    "\n",
    "# Out:\n",
    "# pod/worker-app-pod created"
   ]
  },
  {
   "cell_type": "code",
   "execution_count": 128,
   "metadata": {},
   "outputs": [
    {
     "name": "stdout",
     "output_type": "stream",
     "text": [
      "pod/result-app-pod created\n"
     ]
    },
    {
     "data": {
      "text/plain": [
       "0"
      ]
     },
     "execution_count": 128,
     "metadata": {},
     "output_type": "execute_result"
    }
   ],
   "source": [
    "# create the result-app pod\n",
    "os.system('kubectl create -f ' + os.getcwd() + '/voting-app/result-app-pod.yaml')\n",
    "\n",
    "# Out:\n",
    "# pod/result-app-pod created"
   ]
  },
  {
   "cell_type": "code",
   "execution_count": 129,
   "metadata": {},
   "outputs": [
    {
     "name": "stdout",
     "output_type": "stream",
     "text": [
      "service/result-service created\n"
     ]
    },
    {
     "data": {
      "text/plain": [
       "0"
      ]
     },
     "execution_count": 129,
     "metadata": {},
     "output_type": "execute_result"
    }
   ],
   "source": [
    "# create the result-app service\n",
    "os.system('kubectl create -f ' + os.getcwd() + '/voting-app/result-app-service.yaml')\n",
    "\n",
    "# Out:\n",
    "# service/result-service created"
   ]
  },
  {
   "cell_type": "code",
   "execution_count": 130,
   "metadata": {},
   "outputs": [
    {
     "name": "stdout",
     "output_type": "stream",
     "text": [
      "NAME                 READY   STATUS              RESTARTS   AGE\n",
      "pod/postgres-pod     0/1     ContainerCreating   0          1s\n",
      "pod/redis-pod        0/1     ContainerCreating   0          2s\n",
      "pod/result-app-pod   0/1     ContainerCreating   0          1s\n",
      "pod/voting-app-pod   1/1     Running             0          5s\n",
      "pod/worker-app-pod   0/1     ContainerCreating   0          1s\n",
      "\n",
      "NAME                     TYPE        CLUSTER-IP       EXTERNAL-IP   PORT(S)        AGE\n",
      "service/db               ClusterIP   10.104.144.215   <none>        5432/TCP       1s\n",
      "service/kubernetes       ClusterIP   10.96.0.1        <none>        443/TCP        32m\n",
      "service/redis            ClusterIP   10.106.54.60     <none>        6379/TCP       2s\n",
      "service/result-service   NodePort    10.104.23.175    <none>        80:30005/TCP   0s\n",
      "service/voting-service   NodePort    10.105.142.232   <none>        80:30004/TCP   4s\n"
     ]
    },
    {
     "data": {
      "text/plain": [
       "0"
      ]
     },
     "execution_count": 130,
     "metadata": {},
     "output_type": "execute_result"
    }
   ],
   "source": [
    "# check the new resources\n",
    "os.system('kubectl get pods,svc')\n",
    "\n",
    "# Out:"
   ]
  },
  {
   "cell_type": "code",
   "execution_count": 131,
   "metadata": {},
   "outputs": [
    {
     "name": "stdout",
     "output_type": "stream",
     "text": [
      "service \"db\" deleted\n",
      "service \"redis\" deleted\n",
      "service \"result-service\" deleted\n",
      "service \"voting-service\" deleted\n",
      "pod \"postgres-pod\" deleted\n",
      "pod \"redis-pod\" deleted\n",
      "pod \"result-app-pod\" deleted\n",
      "pod \"voting-app-pod\" deleted\n",
      "pod \"worker-app-pod\" deleted\n"
     ]
    },
    {
     "data": {
      "text/plain": [
       "0"
      ]
     },
     "execution_count": 131,
     "metadata": {},
     "output_type": "execute_result"
    }
   ],
   "source": [
    "# WANRING. THIS CLEANS EVERYTHING\n",
    "os.system('kubectl delete service/db')\n",
    "os.system('kubectl delete service/redis')\n",
    "os.system('kubectl delete service/result-service')\n",
    "os.system('kubectl delete service/voting-service')\n",
    "os.system('kubectl delete pod/postgres-pod')\n",
    "os.system('kubectl delete pod/redis-pod ')\n",
    "os.system('kubectl delete pod/result-app-pod ')\n",
    "os.system('kubectl delete pod/voting-app-pod ')\n",
    "os.system('kubectl delete pod/worker-app-pod ')\n",
    "\n",
    "# Out:"
   ]
  }
 ],
 "metadata": {
  "kernelspec": {
   "display_name": "Python 3 (ipykernel)",
   "language": "python",
   "name": "python3"
  },
  "language_info": {
   "codemirror_mode": {
    "name": "ipython",
    "version": 3
   },
   "file_extension": ".py",
   "mimetype": "text/x-python",
   "name": "python",
   "nbconvert_exporter": "python",
   "pygments_lexer": "ipython3",
   "version": "3.10.6"
  },
  "orig_nbformat": 4
 },
 "nbformat": 4,
 "nbformat_minor": 2
}
